{
  "nbformat": 4,
  "nbformat_minor": 0,
  "metadata": {
    "colab": {
      "provenance": [],
      "gpuType": "V28"
    },
    "kernelspec": {
      "name": "python3",
      "display_name": "Python 3"
    },
    "language_info": {
      "name": "python"
    },
    "accelerator": "TPU"
  },
  "cells": [
    {
      "cell_type": "code",
      "execution_count": 69,
      "metadata": {
        "id": "HzR0BbQApzOD"
      },
      "outputs": [],
      "source": [
        "import torch\n",
        "import torch.nn as nn\n",
        "from torchvision import datasets\n",
        "from torch.utils.data import DataLoader,random_split\n",
        "import torch.nn.functional as F\n",
        "import torchvision.transforms as transforms"
      ]
    },
    {
      "cell_type": "code",
      "source": [
        "transform = transforms.Compose([\n",
        "    transforms.Resize((224,224)),\n",
        "    transforms.ToTensor(),\n",
        "    transforms.Normalize((0.5,0.5,0.5),(0.5,0.5,0.5)),\n",
        "])\n",
        "\n",
        "dataset = datasets.ImageFolder(\"./drive/MyDrive/Breast Cancer dataset/\",transform=transform,)\n",
        "\n",
        "train_size = int(0.8 * len(dataset))\n",
        "test_size = len(dataset) - train_size\n",
        "train_dataset,test_dataset = random_split(dataset,[train_size,test_size])"
      ],
      "metadata": {
        "id": "S88S4vhFqbxG"
      },
      "execution_count": 70,
      "outputs": []
    },
    {
      "cell_type": "code",
      "source": [
        "train_dataloader = DataLoader(train_dataset,batch_size=64,shuffle=True)\n",
        "test_dataloader = DataLoader(test_dataset,batch_size=64,shuffle=True)"
      ],
      "metadata": {
        "id": "cmdc59czr4t8"
      },
      "execution_count": 71,
      "outputs": []
    },
    {
      "cell_type": "code",
      "source": [
        "epoch = 3\n",
        "torch.device(\"cuda\" if torch.cuda.is_available() else \"cpu\")"
      ],
      "metadata": {
        "colab": {
          "base_uri": "https://localhost:8080/"
        },
        "id": "yDxYWXwKsNpw",
        "outputId": "67aca5a6-c1ca-474f-c34f-7b50bc40e25a"
      },
      "execution_count": 72,
      "outputs": [
        {
          "output_type": "execute_result",
          "data": {
            "text/plain": [
              "device(type='cpu')"
            ]
          },
          "metadata": {},
          "execution_count": 72
        }
      ]
    },
    {
      "cell_type": "code",
      "source": [
        "class BreastCancerPrediction(nn.Module):\n",
        "  def __init__(self):\n",
        "    super().__init__()\n",
        "    self.conv1 = nn.Conv2d(3,16,3,1)\n",
        "    self.conv2 = nn.Conv2d(16,32,3,1)\n",
        "    self.conv3 = nn.Conv2d(32,64,3,1)\n",
        "    self.pooling = nn.MaxPool2d(2,2)\n",
        "    self.flatten = nn.Flatten()\n",
        "    self.linear1 = nn.Linear(64*26*26,256) # Corrected input size based on recalculation\n",
        "    self.linear2 = nn.Linear(256,3)\n",
        "\n",
        "  def forward(self,x):\n",
        "    x = F.relu(self.conv1(x))\n",
        "    x = self.pooling(x)\n",
        "    x = F.relu(self.conv2(x))\n",
        "    x = self.pooling(x)\n",
        "    x = F.relu(self.conv3(x))\n",
        "    x = self.pooling(x)\n",
        "    x = self.flatten(x)\n",
        "    x = F.relu(self.linear1(x))\n",
        "    x = self.linear2(x)\n",
        "    return x"
      ],
      "metadata": {
        "id": "HjaN3ZiqsW_s"
      },
      "execution_count": 73,
      "outputs": []
    },
    {
      "cell_type": "code",
      "source": [
        "model = BreastCancerPrediction()"
      ],
      "metadata": {
        "id": "5_zSTwIdtWga"
      },
      "execution_count": 74,
      "outputs": []
    },
    {
      "cell_type": "code",
      "source": [
        "optimizer = torch.optim.Adam(model.parameters(),lr=0.001)\n",
        "loss_fn = nn.CrossEntropyLoss()"
      ],
      "metadata": {
        "id": "iTRNZz58tbUc"
      },
      "execution_count": 75,
      "outputs": []
    },
    {
      "cell_type": "code",
      "source": [
        "total_loss = 0\n",
        "for epoch in range(epoch):\n",
        "  print(f\"Epoch: {epoch+1}\")\n",
        "  for batch,(x,y) in enumerate(train_dataloader):\n",
        "    optimizer.zero_grad()\n",
        "    pred = model(x)\n",
        "    loss = loss_fn(pred,y)\n",
        "    loss.backward()\n",
        "    optimizer.step()\n",
        "    total_loss += loss.item()\n",
        "  print(f\"Loss: {total_loss/len(train_dataloader)}\")\n"
      ],
      "metadata": {
        "colab": {
          "base_uri": "https://localhost:8080/"
        },
        "id": "bcis9PJRteG4",
        "outputId": "d3572230-e8ef-417a-be8e-d03c8b994d40"
      },
      "execution_count": 76,
      "outputs": [
        {
          "output_type": "stream",
          "name": "stdout",
          "text": [
            "Epoch: 1\n",
            "Loss: 0.9762457996606827\n",
            "Epoch: 2\n",
            "Loss: 1.7971069008111953\n",
            "Epoch: 3\n",
            "Loss: 2.436761885881424\n"
          ]
        }
      ]
    },
    {
      "cell_type": "code",
      "source": [
        "model.eval()\n",
        "total_loss = 0\n",
        "correct = 0\n",
        "total_samples = 0\n",
        "\n",
        "with torch.no_grad():\n",
        "    for batch_idx, (data, targets) in enumerate(test_dataloader):\n",
        "        preds = model(data)\n",
        "        loss = loss_fn(preds, targets)\n",
        "\n",
        "        total_loss += loss.item()\n",
        "        correct += (preds.argmax(dim=1) == targets).sum().item()  # count correct\n",
        "        total_samples += targets.size(0)  # total samples\n",
        "\n",
        "    accuracy = 100 * correct / total_samples\n",
        "    print(f\"Loss: {total_loss/len(test_dataloader):.4f}  Accuracy: {accuracy:.2f}%\")\n"
      ],
      "metadata": {
        "id": "1CYDAQ9tvpEh",
        "colab": {
          "base_uri": "https://localhost:8080/"
        },
        "outputId": "bb60f454-c385-4803-99a8-f8404b22d57d"
      },
      "execution_count": 79,
      "outputs": [
        {
          "output_type": "stream",
          "name": "stdout",
          "text": [
            "Loss: 0.8252  Accuracy: 68.99%\n"
          ]
        }
      ]
    },
    {
      "cell_type": "code",
      "source": [],
      "metadata": {
        "id": "A3AlZx0FyX_V"
      },
      "execution_count": null,
      "outputs": []
    }
  ]
}